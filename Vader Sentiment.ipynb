{
 "cells": [
  {
   "cell_type": "code",
   "execution_count": null,
   "id": "934cb2e7-def9-427e-968a-8494c868b018",
   "metadata": {},
   "outputs": [],
   "source": [
    "pip install vaderSentiment"
   ]
  },
  {
   "cell_type": "code",
   "execution_count": null,
   "id": "95792eaf-55ee-46c7-ad52-8b7a499d7631",
   "metadata": {},
   "outputs": [],
   "source": [
    "from vaderSentiment.vaderSentiment import SentimentIntensityAnalyzer"
   ]
  },
  {
   "cell_type": "code",
   "execution_count": 4,
   "id": "e7055d5e-b4d7-4331-a7ef-a83f084bfe04",
   "metadata": {},
   "outputs": [
    {
     "name": "stdin",
     "output_type": "stream",
     "text": [
      "Enter a sentence:  I am having such a good day today \n"
     ]
    },
    {
     "name": "stdout",
     "output_type": "stream",
     "text": [
      "\n",
      "Sentiment Score: 72.02\n",
      "Detailed Sentiment: {'neg': 0.0, 'neu': 0.707, 'pos': 0.293, 'compound': 0.4404}\n"
     ]
    }
   ],
   "source": [
    "# Initialize the sentiment analyzer\n",
    "analyzer = SentimentIntensityAnalyzer()\n",
    "\n",
    "# Function to compute sentiment score\n",
    "def compute_sentiment_score(text):\n",
    "    sentiment = analyzer.polarity_scores(text)\n",
    "    sentiment_score = sentiment['compound'] * 50 + 50  # Normalize sentiment score to 0-100\n",
    "    return sentiment_score, sentiment\n",
    "\n",
    "# Function to get user input and display sentiment score\n",
    "def analyze_sentence():\n",
    "    sentence = input(\"Enter a sentence: \")\n",
    "    sentiment_score, sentiment = compute_sentiment_score(sentence)\n",
    "    print(f\"\\nSentiment Score: {sentiment_score:.2f}\")\n",
    "    print(f\"Detailed Sentiment: {sentiment}\")\n",
    "\n",
    "# Run the analysis\n",
    "analyze_sentence()\n"
   ]
  },
  {
   "cell_type": "code",
   "execution_count": null,
   "id": "e27fcca9-e698-41d4-aa60-5144cc78fced",
   "metadata": {},
   "outputs": [],
   "source": []
  }
 ],
 "metadata": {
  "kernelspec": {
   "display_name": "Python 3 (ipykernel)",
   "language": "python",
   "name": "python3"
  },
  "language_info": {
   "codemirror_mode": {
    "name": "ipython",
    "version": 3
   },
   "file_extension": ".py",
   "mimetype": "text/x-python",
   "name": "python",
   "nbconvert_exporter": "python",
   "pygments_lexer": "ipython3",
   "version": "3.11.7"
  }
 },
 "nbformat": 4,
 "nbformat_minor": 5
}
